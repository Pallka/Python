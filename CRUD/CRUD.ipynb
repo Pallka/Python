{
  "cells": [
    {
      "cell_type": "code",
      "execution_count": null,
      "metadata": {
        "id": "t9fBLDcWNo5W"
      },
      "outputs": [],
      "source": [
        "'''\n",
        "In the assignment you have to emulate typical CRUD operations using plain functions.\n",
        "\n",
        "CRUD: Create, Read (Retrieve), Update, Delete.\n",
        "Firstly, implement parsing function.\n",
        "For database emulation we can use list, i.e.,\n",
        "\n",
        "DATABASE = list(), can be global variable of passed into each function as\n",
        "              argument.\n",
        "'''"
      ]
    },
    {
      "cell_type": "code",
      "source": [
        "import hashlib\n",
        "from datetime import datetime"
      ],
      "metadata": {
        "id": "5g4iHDW9U4Xp"
      },
      "execution_count": null,
      "outputs": []
    },
    {
      "cell_type": "code",
      "execution_count": null,
      "metadata": {
        "id": "bEZEXvV_Jq_u"
      },
      "outputs": [],
      "source": [
        "USER_SCHEME = (\"id\", \"first_name\", \"second_name\", \"email\", \"password\")\n",
        "RECORD_SCHEME = (\"id\", \"date\", \"content\", \"user\", \"title\")\n",
        "ENTITIES = ('User', 'Record')\n",
        "DATABASE = []"
      ]
    },
    {
      "cell_type": "code",
      "execution_count": null,
      "metadata": {
        "id": "__KficK3KAjD"
      },
      "outputs": [],
      "source": [
        "def _get_entity(s: str) -> str:\n",
        "  \"\"\"Gets named entity ('User' or 'Record') from string.\n",
        "\n",
        "  Args:\n",
        "    s(str): string with User or Record entity.\n",
        "\n",
        "  Returns:\n",
        "    string: extracted entity.\n",
        "  \"\"\"\n",
        "  if ENTITIES[0] in s:\n",
        "    return ENTITIES[0]\n",
        "  elif ENTITIES[1] in s:\n",
        "    return ENTITIES[1]\n",
        "  else:\n",
        "    return \"\""
      ]
    },
    {
      "cell_type": "code",
      "execution_count": null,
      "metadata": {
        "id": "NLt-RkJnXuZ9"
      },
      "outputs": [],
      "source": [
        "def _get_content(scheme: tuple, s: str) -> dict:\n",
        "  result = {}\n",
        "  for key in scheme:\n",
        "    if key + \"=\" in s:\n",
        "      print(\"Found!\")\n",
        "      idx = s.index(key + \"=\")\n",
        "      print(f\"Index of first character of {key + '='} is {idx}\")\n",
        "      search_index = idx + len(key + '=')\n",
        "      print(f\"Index of the last character of {key + '='} is {search_index}\")\n",
        "      i = search_index\n",
        "      sub_string = \"\"\n",
        "\n",
        "      while i < len(s) - 1 and s[i] not in {',', ')'}:\n",
        "              sub_string += s[i]\n",
        "              i += 1\n",
        "      if not sub_string:\n",
        "          while s[i] != ')' and i != len(s) - 1:\n",
        "              i += 1\n",
        "\n",
        "      result[key] = sub_string\n",
        "      print(result)\n",
        "    else:\n",
        "      result[key] = None\n",
        "  return result"
      ]
    },
    {
      "cell_type": "code",
      "execution_count": null,
      "metadata": {
        "id": "jfNdk87-Y40t"
      },
      "outputs": [],
      "source": [
        "# testing user\n",
        "_get_content(scheme=USER_SCHEME, s=users[2])"
      ]
    },
    {
      "cell_type": "code",
      "execution_count": null,
      "metadata": {
        "id": "wCnW6SVQcpTW"
      },
      "outputs": [],
      "source": [
        "# testing record\n",
        "_get_content(scheme=RECORD_SCHEME, s=records[2])"
      ]
    },
    {
      "cell_type": "code",
      "execution_count": null,
      "metadata": {
        "id": "341Cee8KRk4I"
      },
      "outputs": [],
      "source": [
        "def parse_string(string: str) -> dict:\n",
        "  \"\"\"Each of functions below should parse input string.\n",
        "  Function must identify entety: record or user.\n",
        "  Implement function to parse standard input string based on example:\n",
        "\n",
        "  record: \"Record(id=1, date=26.02.2004, content=Some example,\n",
        "                   user=1, title=Example title)\"\n",
        "  user:    \"User(id=1, first_name=test name, second_name=test surname,\n",
        "                 email=test@test.test, password=123)\"\n",
        "  Args:\n",
        "    string (str): represents entity like examples.\n",
        "\n",
        "  Return:\n",
        "    dict: {'record': {\"id\": 1, \"date\": datetime.datetime, 'content':\n",
        "                      'Some example',\"user\": 1, 'title': \"Example title\"}}\n",
        "          or\n",
        "          {'user': {\"id\": 1, 'first_name': 'test_name', ...,\n",
        "                    \"password\": hash(password)}}\n",
        "\n",
        "  \"\"\"\n",
        "  entity = _get_entity(s=string)\n",
        "  if entity:\n",
        "        scheme = USER_SCHEME if entity == 'User' else RECORD_SCHEME\n",
        "        result_dict = _get_content(scheme=scheme, s=string)\n",
        "        if entity == 'User' and 'password' in result_dict:\n",
        "            password = result_dict['password']\n",
        "            if password is not None:\n",
        "                result_dict['password'] = hashlib.sha256(password.encode()).hexdigest()\n",
        "        if 'id' not in result_dict:\n",
        "            print(\"ID not found in the input string.\")\n",
        "            return {}\n",
        "        return {entity.lower(): result_dict}\n",
        "  else:\n",
        "      return {}"
      ]
    },
    {
      "cell_type": "code",
      "source": [
        "parse_string(\"User(id=1, first_name=test name, second_name=test surname,email=test@test.test, password=123)\")"
      ],
      "metadata": {
        "id": "8BZH6p8lLsJ8"
      },
      "execution_count": null,
      "outputs": []
    },
    {
      "cell_type": "code",
      "source": [
        "parse_string(\"Record(id=1, date=26.02.2004, content=Some example #1, user=1, title=Example title)\")"
      ],
      "metadata": {
        "id": "8qg2GZIo6Xtj"
      },
      "execution_count": null,
      "outputs": []
    },
    {
      "cell_type": "code",
      "execution_count": null,
      "metadata": {
        "id": "v0NFSfqgP8Ua"
      },
      "outputs": [],
      "source": [
        "def create_user(user: str) -> dict:\n",
        "  \"\"\"\n",
        "  Performs creation operation. Input: string with record. Output: parsed string\n",
        "  converted into dict (json).\n",
        "\n",
        "  Args:\n",
        "    user (str): \"User(id=1, first_name=test name, second_name=test surname,\n",
        "                 email=test@test.test, password=123)\"\n",
        "  Returns:\n",
        "    None\n",
        "\n",
        "  dict: user = {\"id\": 1, 'first_name': 'test_name', ...,\n",
        "                  \"password\": hash(password) }\n",
        "  DATABASE.append(dict)\n",
        "\n",
        "  \"\"\"\n",
        "  result = parse_string(user)\n",
        "  user_id = result['user']['id']\n",
        "\n",
        "  for existing_user in DATABASE:\n",
        "      if 'user' in existing_user and existing_user['user']['id'] == user_id:\n",
        "          existing_user['user'].update(result['user'])\n",
        "          if 'password' in existing_user['user']:\n",
        "              password = existing_user['user']['password']\n",
        "              if password is not None:\n",
        "                  existing_user['user']['password'] = hashlib.sha256(password.encode()).hexdigest()\n",
        "          return existing_user\n",
        "\n",
        "  if 'password' in result['user']:\n",
        "      password = result['user']['password']\n",
        "      if password is not None:\n",
        "          result['user']['password'] = hashlib.sha256(password.encode()).hexdigest()\n",
        "  DATABASE.append(result)\n",
        "  return dict"
      ]
    },
    {
      "cell_type": "code",
      "execution_count": null,
      "metadata": {
        "id": "I77Qp4zEOEHO"
      },
      "outputs": [],
      "source": [
        "def create_record(record: str) -> dict:\n",
        "  \"\"\"\n",
        "  Performs creation operation. Input: string with record. Output: parsed string\n",
        "  converted into dict (json).\n",
        "\n",
        "  Args:\n",
        "    record (str): \"Record(id=1, date=26.02.2004, content=Some example,\n",
        "                   user=1, 'title'=Example title)\"\n",
        "  Returns:\n",
        "    dict: record = {\"id\": 1, \"date\": datetime.datetime, 'content': 'Some example',\n",
        "                    \"user\": 1, 'title': \"Example title\"}\n",
        "\n",
        "  # parse string and get record in dict, record = ...\n",
        "  # DATABASE.append(record)\n",
        "\n",
        "  \"\"\"\n",
        "  result = parse_string(record)\n",
        "  record_id = result['record']['id']\n",
        "\n",
        "  for record in DATABASE:\n",
        "      if 'record' in record and record['record']['id'] == record_id:\n",
        "          record['record'].update(result['record'])\n",
        "          return record\n",
        "  return None\n",
        "\n",
        "  DATABASE.append(result)\n",
        "  return dict()"
      ]
    },
    {
      "cell_type": "code",
      "source": [
        "create_user(\"User(id=1, first_name=test name, second_name=test surname, email=test@test.test, password=123)\")\n",
        "create_user(\"User(id=2, first_name=another test name, second_name=another test surname, email=test1@test.test, password=456)\")\n",
        "create_user(\"User(id=3, first_name=test name x1, second_name=test surname x2, email=test123@test.test)\")\n",
        "create_user(\"User(id=4, first_name=, second_name=test surname x3, email=train@test.test)\")\n",
        "create_user(\"User(id=5, first_name=test nameee, second_name=test surnameee, email=test@tesdt.test, password=12309)\")"
      ],
      "metadata": {
        "id": "oJaAT9dv7H88"
      },
      "execution_count": null,
      "outputs": []
    },
    {
      "cell_type": "code",
      "source": [
        "create_record(\"Record(id=1, date=26.02.2004, content=Some example #1, user=1, title=Example title)\")\n",
        "create_record(\"Record(id=2, date=01.10.2013, content=Some example #2, user=3, title=Example title one)\")\n",
        "create_record(\"Record(id=3, date=12.13.2008, content=Some example #3, user=2, title=Example title of user 2)\")"
      ],
      "metadata": {
        "id": "5b_JMx3D6rbf"
      },
      "execution_count": null,
      "outputs": []
    },
    {
      "cell_type": "code",
      "source": [
        "create_record(\"Record(id=8, date=26.02.2004, content=Some example #1, user=6, title=Example title)\")"
      ],
      "metadata": {
        "id": "_AzQBRpODMF2"
      },
      "execution_count": null,
      "outputs": []
    },
    {
      "cell_type": "code",
      "execution_count": null,
      "metadata": {
        "id": "0yXBsFEYRKJe"
      },
      "outputs": [],
      "source": [
        "def update_record(record: str) -> dict:\n",
        "  \"\"\"\n",
        "  Performs update operation. Input: string with record. Output: parsed string\n",
        "  converted into dict (json).\n",
        "\n",
        "  Args:\n",
        "    record (str): \"Record(id=1, date=24.02.2004, content=Some example,\n",
        "                   user=1, 'title'=Example title)\"\n",
        "  Returns:\n",
        "    dict: record = {\"id\": 1, \"date\": datetime.datetime, 'content': 'Some example',\n",
        "                    \"user\": 1, 'title': \"Example title\"}\n",
        "\n",
        "  \"\"\"\n",
        "  parsed_record = parse_string(record)\n",
        "  record_id = parsed_record.get('record', {}).get('id')\n",
        "  print(f'\\nSearching for record with ID: {record_id}')\n",
        "\n",
        "  for record in DATABASE:\n",
        "      if 'record' in record and record['record'].get('id') == record_id:\n",
        "          record['record'].update(parsed_record['record'])\n",
        "          return record['record']\n",
        "  return print(f'Record with ID={record_id} not found.')"
      ]
    },
    {
      "cell_type": "code",
      "source": [
        "update_record(\"Record(id=3, date=24.02.2004, content=Some updated example, user=1, title=Updated title)\")"
      ],
      "metadata": {
        "id": "6QJ1_Yj99Dgw"
      },
      "execution_count": null,
      "outputs": []
    },
    {
      "cell_type": "code",
      "source": [
        "update_record(\"Record(id=10, date=24.02.2004, content=Some updated example, user=1, title=Updated title)\")"
      ],
      "metadata": {
        "id": "lXEBhRz5-RNi"
      },
      "execution_count": null,
      "outputs": []
    },
    {
      "cell_type": "code",
      "source": [
        "def update_user(user: str) -> dict:\n",
        "    \"\"\"\n",
        "    Performs update operation on a user record. Input: string with user record.\n",
        "    Output: parsed string converted into dict (json).\n",
        "\n",
        "    Args:\n",
        "        user (str): \"User(id=1, first_name=test name, second_name=test surname,\n",
        "                     email=test@test.test, password=123)\"\n",
        "    Returns:\n",
        "        dict: Updated user record if found, else None.\n",
        "    \"\"\"\n",
        "    parsed_user = parse_string(user)\n",
        "    user_id = parsed_user.get('user', {}).get('id')\n",
        "    print(f'\\nSearching for user with ID: {user_id}')\n",
        "\n",
        "    if not user_id:\n",
        "        print(\"User ID not found.\")\n",
        "        return None\n",
        "\n",
        "    for user_entry in DATABASE:\n",
        "        if 'user' in user_entry and user_entry['user'].get('id') == user_id:\n",
        "            user_entry['user'].update(parsed_user['user'])\n",
        "            if 'password' in user_entry['user']:\n",
        "                password = user_entry['user']['password']\n",
        "                if password is not None:\n",
        "                    user_entry['user']['password'] = hashlib.sha256(password.encode()).hexdigest()\n",
        "            return user_entry['user']\n",
        "    return print(f'Record with ID={user_id} not found.')"
      ],
      "metadata": {
        "id": "F7A55P8g_uVO"
      },
      "execution_count": null,
      "outputs": []
    },
    {
      "cell_type": "code",
      "execution_count": null,
      "metadata": {
        "id": "POyoSTLYRguW"
      },
      "outputs": [],
      "source": [
        "def read_record(record_id: int or str or None = None, record_content: str = None) -> dict:\n",
        "    \"\"\"\n",
        "    Returns record by given content. Search DATABASE, find and return record.\n",
        "\n",
        "    Args:\n",
        "        record_content (string): record content.\n",
        "\n",
        "    Returns:\n",
        "        dict: record = {\"id\": 1, \"date\": datetime.datetime, 'content': 'Some example',\n",
        "                        \"user\": 1, 'title': \"Example title\"}\n",
        "\n",
        "    \"\"\"\n",
        "\n",
        "    if record_id is not None:\n",
        "        record_id = str(record_id)\n",
        "        for record in DATABASE:\n",
        "            if 'record' in record and record['record'].get('id') == record_id:\n",
        "                return record['record']\n",
        "        else:\n",
        "            return None\n",
        "    else:\n",
        "        for record in DATABASE:\n",
        "            if 'record' in record:\n",
        "                record_data = record['record']\n",
        "                if (record_data.get('date') == record_content or\n",
        "                    record_data.get('content') == record_content or\n",
        "                    record_data.get('user') == record_content or\n",
        "                    record_data.get('title') == record_content):\n",
        "                    return record_data\n",
        "        else:\n",
        "            print('Not found record')\n",
        "            return None"
      ]
    },
    {
      "cell_type": "code",
      "source": [
        "read_record(record_id=2)"
      ],
      "metadata": {
        "id": "vQFvwZF1bLp4"
      },
      "execution_count": null,
      "outputs": []
    },
    {
      "cell_type": "code",
      "source": [
        "read_record(record_content='26.02.2004')"
      ],
      "metadata": {
        "id": "AvGjFh_1MZSL"
      },
      "execution_count": null,
      "outputs": []
    },
    {
      "cell_type": "code",
      "source": [
        "def read_user(user_id: int or str or dict or None = None, first_name: str = None, second_name: str = None, email: str = None) -> dict:\n",
        "    \"\"\"\n",
        "    Returns user by given id or other attributes. Search DATABASE, find and return user.\n",
        "\n",
        "    Args:\n",
        "        user_id (int or str or dict): user id or user dict.\n",
        "        first_name (str): user first name.\n",
        "        second_name (str): user second name.\n",
        "        email (str): user email.\n",
        "\n",
        "    Returns:\n",
        "        dict: user = {\"id\": 1, 'first_name': 'test_name', ..., \"password\": hash(password) }\n",
        "\n",
        "    \"\"\"\n",
        "    if user_id is not None:\n",
        "        if isinstance(user_id, dict):\n",
        "            user = user_id\n",
        "        else:\n",
        "            for user in DATABASE:\n",
        "                if 'user' in user and user['user'].get('id') == user_id:\n",
        "                    return user['user']\n",
        "            else:\n",
        "                return None\n",
        "    else:\n",
        "        for user in DATABASE:\n",
        "            if 'user' in user:\n",
        "                user_data = user['user']\n",
        "                if (user_data.get('first_name') == first_name or\n",
        "                    user_data.get('second_name') == second_name or\n",
        "                    user_data.get('email') == email):\n",
        "                    return user_data\n",
        "        else:\n",
        "            print('Not found user')\n",
        "            return None"
      ],
      "metadata": {
        "id": "8U1GTGVPBPnV"
      },
      "execution_count": null,
      "outputs": []
    },
    {
      "cell_type": "code",
      "source": [
        "read_user(first_name='UPDATED test name x1')"
      ],
      "metadata": {
        "id": "gqOxwMakEuh-"
      },
      "execution_count": null,
      "outputs": []
    },
    {
      "cell_type": "code",
      "execution_count": null,
      "metadata": {
        "id": "L-R8f8cBTohZ"
      },
      "outputs": [],
      "source": [
        "def delete_record(record_id: str) -> dict:\n",
        "    \"\"\"\n",
        "    Removes a record by its ID. Searches the DATABASE, finds the record with the given ID, and deletes it.\n",
        "\n",
        "    Args:\n",
        "        record_id (int): The ID of the record to delete.\n",
        "\n",
        "    Returns:\n",
        "        dict: The deleted record.\n",
        "    \"\"\"\n",
        "    for i, entity in enumerate(DATABASE):\n",
        "        if entity.get('record') and entity['record'].get('id') == record_id:\n",
        "            del DATABASE[i]\n",
        "            return entity['record']\n",
        "    return None"
      ]
    },
    {
      "cell_type": "code",
      "source": [
        "delete_record(record_id='2')"
      ],
      "metadata": {
        "id": "6CvCy_0lgNB9"
      },
      "execution_count": null,
      "outputs": []
    },
    {
      "cell_type": "code",
      "source": [
        "def delete_user(user_id: str) -> dict:\n",
        "    \"\"\"\n",
        "    Removes a user by its ID. Searches the DATABASE, finds the user with the given ID, and deletes it.\n",
        "\n",
        "    Args:\n",
        "        user_id (int): The ID of the user to delete.\n",
        "\n",
        "    Returns:\n",
        "        dict: The deleted user.\n",
        "    \"\"\"\n",
        "    for i, entity in enumerate(DATABASE):\n",
        "        if entity.get('user') and entity['user'].get('id') == user_id:\n",
        "            del DATABASE[i]\n",
        "            return entity['user']\n",
        "    return None"
      ],
      "metadata": {
        "id": "8zL2M93rHztD"
      },
      "execution_count": null,
      "outputs": []
    }
  ],
  "metadata": {
    "colab": {
      "provenance": []
    },
    "kernelspec": {
      "display_name": "Python 3",
      "name": "python3"
    },
    "language_info": {
      "name": "python"
    }
  },
  "nbformat": 4,
  "nbformat_minor": 0
}